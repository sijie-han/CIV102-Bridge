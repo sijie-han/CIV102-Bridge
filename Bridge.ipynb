{
 "cells": [
  {
   "cell_type": "markdown",
   "metadata": {},
   "source": [
    "## Design 0 \n",
    "<img src= Design0.png  width=\"300\" height=\"300\">"
   ]
  },
  {
   "cell_type": "code",
   "execution_count": 5,
   "metadata": {},
   "outputs": [
    {
     "name": "stdout",
     "output_type": "stream",
     "text": [
      "y_bar = 41.431094351923186 mm\n",
      "I = 418352.20899942354 mm^4\n"
     ]
    }
   ],
   "source": [
    "# Area calculation\n",
    "A1  = 100 * 1.27\n",
    "A2 = 1.27* 6.27\n",
    "A3 = 1.27*(75-1.27*2)\n",
    "A4 = 1.27*80\n",
    "\n",
    "# yb\n",
    "y1 = 75+ 1.27/2\n",
    "y2 = 75 - 1.27/2\n",
    "y3 = 75/2\n",
    "y4 = 1.27/2\n",
    "# y_bar\n",
    "y_bar = (A1*y1 + 2*A2*y2 + 2*A3*y3 + A4*y4)/(A1+2*A2+2*A3+A4)\n",
    "print(f\"y_bar = {y_bar} mm\")\n",
    "\n",
    "I = (100*1.27**3)/12+ 2*(6.27*1.27**3)/12+ 2*(1.27*(75-2*1.27)**3/12) +80*1.27**3/12  +(A1*(y1-y_bar)**2 + 2*A2*(y2-y_bar)**2 + 2*A3*(y3-y_bar)**2 + A4*(y4-y_bar)**2)\n",
    "print(f\"I = {I} mm^4\")"
   ]
  },
  {
   "cell_type": "code",
   "execution_count": 6,
   "metadata": {},
   "outputs": [
    {
     "name": "stdout",
     "output_type": "stream",
     "text": [
      "210.11111111111106\n"
     ]
    }
   ],
   "source": [
    "length = 1200\n",
    "loading_locs = [172,348,512,688,852,1028]\n",
    "loads = [400/6,400/6,400/6,400/6,90,90]\n",
    "temp_m_a = 0\n",
    "for i in range(len(loads)):\n",
    "    temp_m_a += loads[i] * loading_locs[i]\n",
    "r_hy = temp_m_a/length\n",
    "r_ay = (400 * (2/3) + 180) - r_hy\n",
    "print(r_ay)"
   ]
  },
  {
   "cell_type": "code",
   "execution_count": null,
   "metadata": {},
   "outputs": [],
   "source": []
  }
 ],
 "metadata": {
  "kernelspec": {
   "display_name": "Python 3",
   "language": "python",
   "name": "python3"
  },
  "language_info": {
   "codemirror_mode": {
    "name": "ipython",
    "version": 3
   },
   "file_extension": ".py",
   "mimetype": "text/x-python",
   "name": "python",
   "nbconvert_exporter": "python",
   "pygments_lexer": "ipython3",
   "version": "3.11.6"
  },
  "orig_nbformat": 4
 },
 "nbformat": 4,
 "nbformat_minor": 2
}
