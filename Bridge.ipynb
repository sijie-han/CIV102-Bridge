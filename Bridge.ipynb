{
 "cells": [
  {
   "cell_type": "markdown",
   "metadata": {},
   "source": [
    "## Design 0 \n",
    "<img src= Design0.png  width=\"300\" height=\"300\">"
   ]
  },
  {
   "cell_type": "code",
   "execution_count": null,
   "metadata": {},
   "outputs": [],
   "source": [
    "# Area calculation\n",
    "A1  = 100 * 1.27\n",
    "A2 = 1.27* 6.27\n",
    "A3 = 1.27*(75-1.27*2)\n",
    "A4 = 1.27*80\n",
    "\n",
    "# yb\n",
    "y1 = \n",
    "# y_bar\n"
   ]
  }
 ],
 "metadata": {
  "language_info": {
   "name": "python"
  },
  "orig_nbformat": 4
 },
 "nbformat": 4,
 "nbformat_minor": 2
}
